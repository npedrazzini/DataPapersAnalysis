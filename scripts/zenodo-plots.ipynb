{
 "cells": [
  {
   "cell_type": "code",
   "execution_count": 182,
   "metadata": {},
   "outputs": [],
   "source": [
    "# Import packages and load data\n",
    "import pandas as pd\n",
    "import matplotlib.pyplot as plt\n",
    "import numpy as np\n",
    "\n",
    "df = pd.read_csv(r'zenodo_humss_datasets.csv')\n",
    "# df.head()"
   ]
  },
  {
   "cell_type": "code",
   "execution_count": 183,
   "metadata": {},
   "outputs": [],
   "source": [
    "# Remove outliers\n",
    "outlier_max = 10000         # Set the outlier threshold (max)\n",
    "outlier_min = 1             # Set the outlier threshold (min)\n",
    "df  = df.loc[(df['views'] <= outlier_max) \\\n",
    "    & (df['downloads'] <= outlier_max) & (df['downloads'] >= outlier_min) \\\n",
    "    & (df['downloads'] >= outlier_min)]                    "
   ]
  },
  {
   "cell_type": "code",
   "execution_count": 184,
   "metadata": {},
   "outputs": [],
   "source": [
    "# Replace downloads and views with time-normalised data\n",
    "# Skip this cell if you want to work with total counts\n",
    "df['downloads'] = df['downloads']/df['days_since_publication']\n",
    "df['views'] = df['views']/df['days_since_publication']\n",
    "# df.head()"
   ]
  },
  {
   "cell_type": "code",
   "execution_count": 185,
   "metadata": {},
   "outputs": [],
   "source": [
    "# Create dataframe with daily averages and remove outliers\n",
    "days_since_publication = df['days_since_publication'].unique()\n",
    "views = []\n",
    "downloads = []\n",
    "for day in days_since_publication:\n",
    "    mean_views = df['views'][df['days_since_publication'] == day].mean()\n",
    "    mean_downloads = df['downloads'][df['days_since_publication'] == day].mean()\n",
    "    views.append(mean_views)\n",
    "    downloads.append(mean_downloads)\n",
    "df_means = pd.DataFrame({'days_since_publication': days_since_publication, \\\n",
    "    'mean_views': views, 'mean_downloads': downloads})\n",
    "# df_means.head()"
   ]
  },
  {
   "cell_type": "code",
   "execution_count": 186,
   "metadata": {},
   "outputs": [],
   "source": [
    "# Create dataframe with 90-day averages\n",
    "interval = 90           # Set the length of the interval period in days\n",
    "max_days = df_means['days_since_publication'].max()\n",
    "periods = np.array(range(1,(round(max_days/interval)+2)))*interval\n",
    "p_views = []\n",
    "p_downloads = []\n",
    "df_p = df_means         # Create a copy that we could work with\n",
    "\n",
    "for period in periods:\n",
    "    mean_p_views = df_p['mean_views'][df_p['days_since_publication'] <= period].mean()\n",
    "    mean_p_downloads = df_p['mean_downloads'][df_p['days_since_publication'] <= period].mean()\n",
    "    indices = df_p.index[df_p['days_since_publication'] <= period].tolist()\n",
    "    p_views.append(mean_p_views)\n",
    "    p_downloads.append(mean_p_downloads)\n",
    "    df_p = df_p.drop(indices)\n",
    "df_means_period = pd.DataFrame({'less_than_n_days_since_publication': periods, \\\n",
    "    'monthly_mean_views': p_views, 'monthly_mean_downloads': p_downloads})\n",
    "df_means_period = df_means_period.sort_values(by='less_than_n_days_since_publication', ascending=False)\n",
    "# df_means_period.head()"
   ]
  },
  {
   "cell_type": "code",
   "execution_count": 187,
   "metadata": {},
   "outputs": [
    {
     "data": {
      "image/png": "[encoded data removed]",
      "text/plain": [
       "<Figure size 432x288 with 1 Axes>"
      ]
     },
     "metadata": {
      "needs_background": "light"
     },
     "output_type": "display_data"
    }
   ],
   "source": [
    "# Plot 90-day averages for views and downloads\n",
    "# Views\n",
    "x = np.array(df_means_period['less_than_n_days_since_publication'])\n",
    "y = np.array(df_means_period['monthly_mean_views'])\n",
    "plt.scatter(x,y)\n",
    "\n",
    "# Downlaods\n",
    "x = np.array(df_means_period['less_than_n_days_since_publication'])\n",
    "y = np.array(df_means_period['monthly_mean_downloads'])\n",
    "plt.scatter(x,y)\n",
    "\n",
    "plt.show()"
   ]
  },
  {
   "cell_type": "code",
   "execution_count": null,
   "metadata": {},
   "outputs": [],
   "source": []
  }
 ],
 "metadata": {
  "interpreter": {
   "hash": "916dbcbb3f70747c44a77c7bcd40155683ae19c65e1c03b4aa3499c5328201f1"
  },
  "kernelspec": {
   "display_name": "Python 3.10.4 64-bit",
   "name": "python3"
  },
  "language_info": {
   "codemirror_mode": {
    "name": "ipython",
    "version": 3
   },
   "file_extension": ".py",
   "mimetype": "text/x-python",
   "name": "python",
   "nbconvert_exporter": "python",
   "pygments_lexer": "ipython3",
   "version": "3.10.4"
  },
  "orig_nbformat": 4
 },
 "nbformat": 4,
 "nbformat_minor": 2
}
