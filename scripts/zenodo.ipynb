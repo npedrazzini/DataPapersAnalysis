{
 "cells": [
  {
   "cell_type": "markdown",
   "metadata": {},
   "source": [
    "## 1. Importing packages, modules and creating an access token for the API"
   ]
  },
  {
   "cell_type": "code",
   "execution_count": null,
   "metadata": {},
   "outputs": [],
   "source": [
    "# Import the necessary packages and modules\n",
    "import requests\n",
    "from bs4 import BeautifulSoup\n",
    "import csv\n",
    "from datetime import date, timedelta\n",
    "import re\n",
    "import pandas as pd\n",
    "from tqdm.notebook import tqdm      # To track progress of a long for-loop when executing a notebook cell"
   ]
  },
  {
   "cell_type": "markdown",
   "metadata": {},
   "source": [
    "Communicating with the Zenodo REST API requires an individual secret access token which can be obtained free of charge after registering on Zenodo.\n",
    "\n",
    "Creating a personal access token\n",
    "- [Register](https://zenodo.org/signup) for a Zenodo account if you don’t already have one.\n",
    "- Go to your [Applications](https://zenodo.org/account/settings/applications/), to [create a new token](https://zenodo.org/account/settings/applications/tokens/new/).\n",
    "\n",
    "In order to reprodce the result, please save your access token in a file called 'zenodo-access-token.txt' in the same folder. This file is called in the below cell."
   ]
  },
  {
   "cell_type": "code",
   "execution_count": null,
   "metadata": {},
   "outputs": [],
   "source": [
    "# Call your individual secret Zenodo access token from file\n",
    "text_file = open('zenodo-access-token.txt', 'r')\n",
    "ACCESS_TOKEN = text_file.read()\n",
    "text_file.close()"
   ]
  },
  {
   "cell_type": "markdown",
   "metadata": {},
   "source": [
    "## 2. Testing the Zenodo query and the received response\n",
    "\n",
    "This section tests the Zenodo response on one date before we start building a dataset for a date range. These cells are commented out. Please uncomment if you wish to experiment with your own queries.\n",
    "\n"
   ]
  },
  {
   "cell_type": "code",
   "execution_count": null,
   "metadata": {},
   "outputs": [],
   "source": [
    "# # Test the request on one dated query only\n",
    "# hum_ss = '(humanit OR architectur OR environment OR geograph OR achaelog OR \\\n",
    "#         economic OR econometric OR business OR management OR law OR politic OR \\\n",
    "#         social OR sociolog OR anthropolog OR development OR education OR sport OR leisure \\\n",
    "#         OR touris OR language OR linguistic OR history OR classics OR philosoph \\\n",
    "#         OR theolog OR religio OR art OR design OR music OR drama OR dance OR film \\\n",
    "#         OR screen OR communicat OR cultur OR media OR library)'\n",
    "# publication_date = 'publication_date:2022-05-29'\n",
    "# resource_type = 'resource_type.type:dataset'\n",
    "# access_right = 'access_right:open'\n",
    "# query = hum_ss + ' AND ' + publication_date + ' AND ' + resource_type + ' AND ' + access_right\n",
    "# r = requests.get('https://zenodo.org/api/records',\n",
    "#                         params={'q': query,\n",
    "#                                 'status': 'published',\n",
    "#                                 'sort': '-mostrecent',\n",
    "#                                 'size': 500,\n",
    "#                                 'access_token': ACCESS_TOKEN})\n",
    "# d = r.json()            # The output is a dictionary\n",
    "# print(type(r.json()))\n",
    "# r.json()"
   ]
  },
  {
   "cell_type": "code",
   "execution_count": null,
   "metadata": {},
   "outputs": [],
   "source": [
    "# # Extract the number of hits if the search has returned any\n",
    "# not_empty = d['aggregations']['access_right']['buckets']\n",
    "# if not not_empty:\n",
    "#     print('List is empty')\n",
    "# else:    \n",
    "#     doc_count = d['aggregations']['access_right']['buckets'][0]['doc_count']\n",
    "#     print(doc_count)"
   ]
  },
  {
   "cell_type": "code",
   "execution_count": null,
   "metadata": {},
   "outputs": [],
   "source": [
    "# # Build a list of data for hits on that date\n",
    "# hits = []\n",
    "# for i in range(doc_count):\n",
    "#     doi = d['hits']['hits'][i]['links']['doi']\n",
    "#     html = d['hits']['hits'][i]['links']['html']\n",
    "#     publication_date = d['hits']['hits'][i]['metadata']['publication_date']\n",
    "#     downloads = d['hits']['hits'][i]['stats']['downloads']\n",
    "#     views = d['hits']['hits'][i]['stats']['views']\n",
    "#     hit = [doi, html, publication_date, downloads, views]\n",
    "#     hits.append(hit)\n",
    "# print(hits[0])\n",
    "# print(len(hits))"
   ]
  },
  {
   "cell_type": "code",
   "execution_count": null,
   "metadata": {},
   "outputs": [],
   "source": [
    "# # Convert dictionary to dataframe and check the output\n",
    "# df = pd.DataFrame(hits, columns = ['doi', 'html', 'publication_date', 'downloads', 'views'])\n",
    "# # Convert date string in 'publication_date# column to datetime.data, NOT timestamp data\n",
    "# df['publication_date'] = pd.to_datetime(df['publication_date'], format='%Y-%m-%d').apply(lambda x: x.date())\n",
    "# heute = date.today()        # Get today's date in datetime.data format\n",
    "# # Add a column showing the number of days since publication\n",
    "# df['days_since_publication'] = heute - df['publication_date']       \n",
    "# print(df.head(5))\n",
    "# df.info()                   # Note that data in 'publication_date' is in datetime.data"
   ]
  },
  {
   "cell_type": "markdown",
   "metadata": {},
   "source": [
    "## 3. Building a dataset of Zenodo datastes in the Humanities and Social Sciences\n",
    "### 3.1 Create a date range"
   ]
  },
  {
   "cell_type": "code",
   "execution_count": null,
   "metadata": {},
   "outputs": [],
   "source": [
    "# Now is the time to create a loop for a range of dates\n",
    "# Create function for date range\n",
    "def daterange(start_date, end_date):\n",
    "    for n in range(int((end_date - start_date).days)):\n",
    "        yield start_date + timedelta(n)\n",
    "\n",
    "# Create a list of one-day date ranges in Zenodo search format\n",
    "start_date = date(2019, 9, 29)              #Inclusive start date - the date of the first JOHD paper\n",
    "end_date = date(2022, 6, 5)                 #Exclusive end date - the cut-off date is 4 June 2022\n",
    "date_list =  []\n",
    "for single_date in daterange(start_date, end_date):\n",
    "    x = single_date.strftime(\"%Y-%m-%d\")\n",
    "    r = 'publication_date:' + x\n",
    "    date_list.append(r)\n",
    "# print(len(date_list))\n",
    "# print(date_list)\n",
    "\n",
    "# Set the cut-off date to 4 June 2022 in datetime.data format\n",
    "cut_off_date = date(2022, 6, 4)\n",
    "# print(cut_off_date)\n",
    "# print(type(cut_off_date)) "
   ]
  },
  {
   "cell_type": "markdown",
   "metadata": {},
   "source": [
    "### 3.2 The Zenodo query\n",
    "\n",
    "The Zenodo query parameter 'q' allows simple and phrase search. In the 'hum_ss' block we created a list a stemmed expressions corresponding with the [Units of Assessment](https://www.ref.ac.uk/panels/units-of-assessment/) in Panels C (Social Sciences) and D (Humanities) of the UK's Research Excellence Framework 2021 to restrict the disciplinary focus of the search. We added the 'humanit' expressions for 'humanities'. We also removed the expression 'international' (corepsonding with UoA 19 'Politics and International Studies') which resulted in many hits not in the humanities or social sciences. The search is limited datasets deposited on Zenodo and made publicly accessible ('open')."
   ]
  },
  {
   "cell_type": "code",
   "execution_count": null,
   "metadata": {},
   "outputs": [],
   "source": [
    "# Create a list of dated queries in Zenodo search format to loop through\n",
    "hum_ss = '(humanit OR architectur OR environment OR geograph OR achaelog OR \\\n",
    "        economic OR econometric OR business OR management OR law OR politic OR \\\n",
    "        social OR sociolog OR anthropolog OR development OR education OR sport OR leisure \\\n",
    "        OR touris OR language OR linguistic OR history OR classics OR philosoph \\\n",
    "        OR theolog OR religio OR art OR design OR music OR drama OR dance OR film \\\n",
    "        OR screen OR communicat OR cultur OR media OR library)'\n",
    "resource_type = 'resource_type.type:dataset'\n",
    "access_right = 'access_right:open'\n",
    "query_list = []\n",
    "for date in date_list:\n",
    "        query = hum_ss + ' AND ' + date + ' AND ' + resource_type + ' AND ' + access_right\n",
    "        query_list.append(query)\n",
    "# print(len(query_list))\n",
    "# print(query_list)"
   ]
  },
  {
   "cell_type": "code",
   "execution_count": null,
   "metadata": {},
   "outputs": [],
   "source": [
    "# Loop through the list of queries and save information into a list of hits \n",
    "hits = []\n",
    "doi_list = []\n",
    "for query in tqdm(query_list):\n",
    "        r = requests.get('https://zenodo.org/api/records',\n",
    "                                params={'q': query,\n",
    "                                        'status': 'published',\n",
    "                                        'sort': '-mostrecent',\n",
    "                                        'size': 500,\n",
    "                                        'access_token': ACCESS_TOKEN})\n",
    "        d = r.json()            # Tranform the response to a dictionary\n",
    "        not_empty = d['aggregations']['access_right']['buckets']\n",
    "        if not not_empty:\n",
    "                next\n",
    "        else:\n",
    "                doc_count = d['aggregations']['access_right']['buckets'][0]['doc_count']\n",
    "                # print(doc_count)\n",
    "                if doc_count != 0:\n",
    "                        for i in range(doc_count):\n",
    "                                doi = d['hits']['hits'][i]['links']['doi']\n",
    "                                if doi not in doi_list:\n",
    "                                        doi_list.append(doi)\n",
    "                                        html = d['hits']['hits'][i]['links']['html']\n",
    "                                        publication_date = d['hits']['hits'][i]['metadata']['publication_date']\n",
    "                                        downloads = d['hits']['hits'][i]['stats']['downloads']\n",
    "                                        views = d['hits']['hits'][i]['stats']['views']\n",
    "                                        hit = [doi, html, publication_date, downloads, views]\n",
    "                                        hits.append(hit)\n",
    "                        # print(len(hits))\n",
    "                else:\n",
    "                        continue"
   ]
  },
  {
   "cell_type": "code",
   "execution_count": null,
   "metadata": {},
   "outputs": [],
   "source": [
    "# Convert dictionary to dataframe\n",
    "df = pd.DataFrame(hits, columns = ['doi', 'html', 'publication_date', 'downloads', 'views'])\n",
    "\n",
    "# Convert date string in 'publication_date# column to datetime.data, NOT timestamp data\n",
    "df['publication_date'] = pd.to_datetime(df['publication_date'], format='%Y-%m-%d').apply(lambda x: x.date())\n",
    "\n",
    "# Add a column showing the number of days since publication\n",
    "df['days_since_publication'] = (cut_off_date - df['publication_date']).dt.days\n",
    "\n",
    "# Check the output\n",
    "print(df.head(5))           # Peak at the dataframe\n",
    "df.info()                   # Note that data in 'publication_date' is datetime.data"
   ]
  },
  {
   "cell_type": "code",
   "execution_count": null,
   "metadata": {},
   "outputs": [],
   "source": [
    "# Save dataframe in .csv and .json file formats\n",
    "df.to_csv('zenodo_humss_datasets.csv')\n",
    "df.to_json('zenodo_humss_datasets.json')"
   ]
  }
 ],
 "metadata": {
  "interpreter": {
   "hash": "916dbcbb3f70747c44a77c7bcd40155683ae19c65e1c03b4aa3499c5328201f1"
  },
  "kernelspec": {
   "display_name": "Python 3.10.4 64-bit",
   "name": "python3"
  },
  "language_info": {
   "codemirror_mode": {
    "name": "ipython",
    "version": 3
   },
   "file_extension": ".py",
   "mimetype": "text/x-python",
   "name": "python",
   "nbconvert_exporter": "python",
   "pygments_lexer": "ipython3",
   "version": "3.10.4"
  },
  "orig_nbformat": 4
 },
 "nbformat": 4,
 "nbformat_minor": 2
}
